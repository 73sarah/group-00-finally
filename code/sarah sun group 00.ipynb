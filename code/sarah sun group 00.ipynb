{
 "cells": [
  {
   "cell_type": "markdown",
   "metadata": {},
   "source": [
    "- Name:  Sarah Sun (Hanyue Sun)\n",
    "- Student ID:  219600845\n",
    "- Email:  sunhan@deakin.edu.au\n",
    "- Lab Session and Tutor (for on campus students): Tuesday 4pm "
   ]
  },
  {
   "cell_type": "markdown",
   "metadata": {},
   "source": [
    " Part I - Web Log Data\n",
    " 1. Data ETL\n",
    " 1.1 Data Loading"
   ]
  },
  {
   "cell_type": "code",
   "execution_count": 1,
   "metadata": {},
   "outputs": [],
   "source": [
    "import matplotlib.pyplot as plt\n",
    "import numpy as np\n",
    "import pandas as pd\n",
    "import time\n",
    "import datetime\n",
    "from scipy import stats\n",
    "import matplotlib"
   ]
  },
  {
   "cell_type": "markdown",
   "metadata": {},
   "source": [
    "Load Hotel TULIP data into dataframe df_ht and check how many files are loaded."
   ]
  },
  {
   "cell_type": "code",
   "execution_count": 2,
   "metadata": {},
   "outputs": [
    {
     "name": "stdout",
     "output_type": "stream",
     "text": [
      "Hotel: ex061101.log\n",
      "Hotel: ex061102.log\n",
      "Hotel: ex061103.log\n",
      "Hotel: ex061104.log\n",
      "Hotel: ex061105.log\n",
      "Hotel: ex061106.log\n",
      "Hotel: ex061107.log\n",
      "Hotel: ex061108.log\n",
      "Hotel: ex061109.log\n",
      "Hotel: ex061110.log\n",
      "Hotel: ex061111.log\n",
      "Hotel: ex061112.log\n",
      "Hotel: ex061113.log\n",
      "Hotel: ex061114.log\n",
      "Hotel: ex061115.log\n",
      "Hotel: ex061116.log\n",
      "Hotel: ex061117.log\n",
      "Hotel: ex061118.log\n",
      "Hotel: ex061119.log\n",
      "Hotel: ex061120.log\n",
      "Hotel: ex061121.log\n",
      "Hotel: ex061122.log\n",
      "Hotel: ex061123.log\n",
      "Hotel: ex061124.log\n",
      "Hotel: ex061125.log\n",
      "Hotel: ex061126.log\n",
      "Hotel: ex061127.log\n",
      "Hotel: ex061128.log\n",
      "Hotel: ex061129.log\n",
      "Hotel: ex061130.log\n",
      "Hotel: ex061201.log\n",
      "Hotel: ex061202.log\n",
      "Hotel: ex061203.log\n",
      "Hotel: ex061204.log\n",
      "Hotel: ex061205.log\n",
      "Hotel: ex061206.log\n",
      "Hotel: ex061207.log\n",
      "Hotel: ex061208.log\n",
      "Hotel: ex061209.log\n",
      "Hotel: ex061210.log\n",
      "Hotel: ex061211.log\n",
      "Hotel: ex061212.log\n",
      "Hotel: ex061213.log\n",
      "Hotel: ex061214.log\n",
      "Hotel: ex061215.log\n",
      "Hotel: ex061216.log\n",
      "Hotel: ex061217.log\n",
      "Hotel: ex061218.log\n",
      "Hotel: ex061219.log\n",
      "Hotel: ex061220.log\n",
      "Hotel: ex061221.log\n",
      "Hotel: ex061222.log\n",
      "Hotel: ex061223.log\n",
      "Hotel: ex061224.log\n",
      "Hotel: ex061225.log\n",
      "Hotel: ex061226.log\n",
      "Hotel: ex061227.log\n",
      "Hotel: ex061228.log\n",
      "Hotel: ex061229.log\n",
      "Hotel: ex061230.log\n",
      "Hotel: ex061231.log\n",
      "Hotel: ex070101.log\n",
      "Hotel: ex070102.log\n",
      "Hotel: ex070103.log\n",
      "Hotel: ex070104.log\n",
      "Hotel: ex070105.log\n",
      "Hotel: ex070106.log\n",
      "Hotel: ex070107.log\n",
      "Hotel: ex070108.log\n",
      "Hotel: ex070109.log\n",
      "Hotel: ex070110.log\n",
      "Hotel: ex070111.log\n",
      "Hotel: ex070112.log\n",
      "Hotel: ex070113.log\n",
      "Hotel: ex070114.log\n",
      "Hotel: ex070115.log\n",
      "Hotel: ex070116.log\n",
      "Hotel: ex070117.log\n",
      "Hotel: ex070118.log\n",
      "Hotel: ex070119.log\n",
      "Hotel: ex070120.log\n",
      "Hotel: ex070121.log\n",
      "Hotel: ex070122.log\n",
      "Hotel: ex070123.log\n",
      "Hotel: ex070124.log\n",
      "Hotel: ex070125.log\n",
      "Hotel: ex070126.log\n",
      "Hotel: ex070127.log\n",
      "Hotel: ex070128.log\n",
      "Hotel: ex070129.log\n",
      "Hotel: ex070130.log\n",
      "Hotel: ex070131.log\n",
      "Hotel: ex070201.log\n",
      "Hotel: ex070202.log\n",
      "Hotel: ex070203.log\n",
      "Hotel: ex070204.log\n",
      "Hotel: ex070205.log\n",
      "Hotel: ex070206.log\n",
      "Hotel: ex070207.log\n",
      "Hotel: ex070208.log\n",
      "Hotel: ex070209.log\n",
      "Hotel: ex070210.log\n",
      "Hotel: ex070211.log\n",
      "Hotel: ex070212.log\n",
      "Hotel: ex070213.log\n",
      "Hotel: ex070214.log\n",
      "Hotel: ex070215.log\n",
      "Hotel: ex070216.log\n",
      "Hotel: ex070217.log\n",
      "Hotel: ex070218.log\n",
      "Hotel: ex070219.log\n",
      "Hotel: ex070220.log\n",
      "Hotel: ex070221.log\n",
      "Hotel: ex070222.log\n",
      "Hotel: ex070223.log\n",
      "Hotel: ex070224.log\n",
      "Hotel: ex070225.log\n",
      "Hotel: ex070226.log\n",
      "Hotel: ex070227.log\n",
      "Hotel: ex070228.log\n"
     ]
    }
   ],
   "source": [
    "from zipfile import ZipFile\n",
    "df_ht=ZipFile(\"HTWebLog_p1.zip\", \"r\")  \n",
    "for filenames in df_ht.namelist():\n",
    "    print ('Hotel:',filenames)"
   ]
  },
  {
   "cell_type": "code",
   "execution_count": 3,
   "metadata": {},
   "outputs": [
    {
     "name": "stdout",
     "output_type": "stream",
     "text": [
      "This zip have 120 documents.\n"
     ]
    }
   ],
   "source": [
    "all_filenames =df_ht.namelist()\n",
    "file_counts = 0\n",
    "for filenames in df_ht.namelist():\n",
    "    file_counts +=1\n",
    "print(\"This zip have %d documents.\" % file_counts)"
   ]
  },
  {
   "cell_type": "markdown",
   "metadata": {},
   "source": [
    "Check the data statistics and general information by printing its top 5 rows."
   ]
  },
  {
   "cell_type": "code",
   "execution_count": 4,
   "metadata": {},
   "outputs": [],
   "source": [
    "from ipywidgets import IntProgress\n",
    "data = []\n",
    "files = df_ht.namelist()\n",
    "ColumnNames=['date','time','s-sitename','s-ip','cs-method','cs-uri-stem','cs-uri-query','s-port','cs-username',\n",
    "             'c-ip','cs(User-Agent)','cs(Referer)','sc-status','sc-substatus','sc-win32-status']\n",
    "for name in df_ht.namelist():\n",
    "    data.append(pd.read_csv(df_ht.open(name),\n",
    "                            sep='\\s+',\n",
    "                            comment='#',\n",
    "                            encoding='iso-8859-1',\n",
    "                            header=None,\n",
    "                            names=ColumnNames))\n",
    "Data = pd.concat(data)"
   ]
  },
  {
   "cell_type": "code",
   "execution_count": 5,
   "metadata": {},
   "outputs": [
    {
     "data": {
      "text/html": [
       "<div>\n",
       "<style scoped>\n",
       "    .dataframe tbody tr th:only-of-type {\n",
       "        vertical-align: middle;\n",
       "    }\n",
       "\n",
       "    .dataframe tbody tr th {\n",
       "        vertical-align: top;\n",
       "    }\n",
       "\n",
       "    .dataframe thead th {\n",
       "        text-align: right;\n",
       "    }\n",
       "</style>\n",
       "<table border=\"1\" class=\"dataframe\">\n",
       "  <thead>\n",
       "    <tr style=\"text-align: right;\">\n",
       "      <th></th>\n",
       "      <th>date</th>\n",
       "      <th>time</th>\n",
       "      <th>s-sitename</th>\n",
       "      <th>s-ip</th>\n",
       "      <th>cs-method</th>\n",
       "      <th>cs-uri-stem</th>\n",
       "      <th>cs-uri-query</th>\n",
       "      <th>s-port</th>\n",
       "      <th>cs-username</th>\n",
       "      <th>c-ip</th>\n",
       "      <th>cs(User-Agent)</th>\n",
       "      <th>cs(Referer)</th>\n",
       "      <th>sc-status</th>\n",
       "      <th>sc-substatus</th>\n",
       "      <th>sc-win32-status</th>\n",
       "    </tr>\n",
       "  </thead>\n",
       "  <tbody>\n",
       "    <tr>\n",
       "      <th>0</th>\n",
       "      <td>2006-11-01</td>\n",
       "      <td>00:00:08</td>\n",
       "      <td>W3SVC1</td>\n",
       "      <td>127.0.0.1</td>\n",
       "      <td>GET</td>\n",
       "      <td>/Default.aspx</td>\n",
       "      <td>-</td>\n",
       "      <td>80.0</td>\n",
       "      <td>-</td>\n",
       "      <td>70.80.84.76</td>\n",
       "      <td>Mozilla/4.0+(compatible;+MSIE+6.0;+Windows+NT+...</td>\n",
       "      <td>http://www.google.com/search?sourceid=navclien...</td>\n",
       "      <td>200.0</td>\n",
       "      <td>0.0</td>\n",
       "      <td>0.0</td>\n",
       "    </tr>\n",
       "    <tr>\n",
       "      <th>1</th>\n",
       "      <td>2006-11-01</td>\n",
       "      <td>00:00:08</td>\n",
       "      <td>W3SVC1</td>\n",
       "      <td>127.0.0.1</td>\n",
       "      <td>GET</td>\n",
       "      <td>/Tulip/home/en-us/home_index.aspx</td>\n",
       "      <td>-</td>\n",
       "      <td>80.0</td>\n",
       "      <td>-</td>\n",
       "      <td>70.80.84.76</td>\n",
       "      <td>Mozilla/4.0+(compatible;+MSIE+6.0;+Windows+NT+...</td>\n",
       "      <td>-</td>\n",
       "      <td>200.0</td>\n",
       "      <td>0.0</td>\n",
       "      <td>0.0</td>\n",
       "    </tr>\n",
       "    <tr>\n",
       "      <th>2</th>\n",
       "      <td>2006-11-01</td>\n",
       "      <td>00:00:08</td>\n",
       "      <td>W3SVC1</td>\n",
       "      <td>127.0.0.1</td>\n",
       "      <td>GET</td>\n",
       "      <td>/Tulip/includes/js/CommonUtil.js</td>\n",
       "      <td>-</td>\n",
       "      <td>80.0</td>\n",
       "      <td>-</td>\n",
       "      <td>70.80.84.76</td>\n",
       "      <td>Mozilla/4.0+(compatible;+MSIE+6.0;+Windows+NT+...</td>\n",
       "      <td>http://www.hotelTulip.com.hk/Tulip/home/en-us/...</td>\n",
       "      <td>200.0</td>\n",
       "      <td>0.0</td>\n",
       "      <td>0.0</td>\n",
       "    </tr>\n",
       "    <tr>\n",
       "      <th>3</th>\n",
       "      <td>2006-11-01</td>\n",
       "      <td>00:00:09</td>\n",
       "      <td>W3SVC1</td>\n",
       "      <td>127.0.0.1</td>\n",
       "      <td>GET</td>\n",
       "      <td>/Tulip/common/common_style.aspx</td>\n",
       "      <td>lang=en-us</td>\n",
       "      <td>80.0</td>\n",
       "      <td>-</td>\n",
       "      <td>70.80.84.76</td>\n",
       "      <td>Mozilla/4.0+(compatible;+MSIE+6.0;+Windows+NT+...</td>\n",
       "      <td>http://www.hotelTulip.com.hk/Tulip/home/en-us/...</td>\n",
       "      <td>200.0</td>\n",
       "      <td>0.0</td>\n",
       "      <td>0.0</td>\n",
       "    </tr>\n",
       "    <tr>\n",
       "      <th>4</th>\n",
       "      <td>2006-11-01</td>\n",
       "      <td>00:00:09</td>\n",
       "      <td>W3SVC1</td>\n",
       "      <td>127.0.0.1</td>\n",
       "      <td>GET</td>\n",
       "      <td>/Tulip/common/en-us/images/top_img.jpg</td>\n",
       "      <td>-</td>\n",
       "      <td>80.0</td>\n",
       "      <td>-</td>\n",
       "      <td>70.80.84.76</td>\n",
       "      <td>Mozilla/4.0+(compatible;+MSIE+6.0;+Windows+NT+...</td>\n",
       "      <td>http://www.hotelTulip.com.hk/Tulip/home/en-us/...</td>\n",
       "      <td>200.0</td>\n",
       "      <td>0.0</td>\n",
       "      <td>0.0</td>\n",
       "    </tr>\n",
       "  </tbody>\n",
       "</table>\n",
       "</div>"
      ],
      "text/plain": [
       "         date      time s-sitename       s-ip cs-method  \\\n",
       "0  2006-11-01  00:00:08     W3SVC1  127.0.0.1       GET   \n",
       "1  2006-11-01  00:00:08     W3SVC1  127.0.0.1       GET   \n",
       "2  2006-11-01  00:00:08     W3SVC1  127.0.0.1       GET   \n",
       "3  2006-11-01  00:00:09     W3SVC1  127.0.0.1       GET   \n",
       "4  2006-11-01  00:00:09     W3SVC1  127.0.0.1       GET   \n",
       "\n",
       "                              cs-uri-stem cs-uri-query  s-port cs-username  \\\n",
       "0                           /Default.aspx            -    80.0           -   \n",
       "1       /Tulip/home/en-us/home_index.aspx            -    80.0           -   \n",
       "2        /Tulip/includes/js/CommonUtil.js            -    80.0           -   \n",
       "3         /Tulip/common/common_style.aspx   lang=en-us    80.0           -   \n",
       "4  /Tulip/common/en-us/images/top_img.jpg            -    80.0           -   \n",
       "\n",
       "          c-ip                                     cs(User-Agent)  \\\n",
       "0  70.80.84.76  Mozilla/4.0+(compatible;+MSIE+6.0;+Windows+NT+...   \n",
       "1  70.80.84.76  Mozilla/4.0+(compatible;+MSIE+6.0;+Windows+NT+...   \n",
       "2  70.80.84.76  Mozilla/4.0+(compatible;+MSIE+6.0;+Windows+NT+...   \n",
       "3  70.80.84.76  Mozilla/4.0+(compatible;+MSIE+6.0;+Windows+NT+...   \n",
       "4  70.80.84.76  Mozilla/4.0+(compatible;+MSIE+6.0;+Windows+NT+...   \n",
       "\n",
       "                                         cs(Referer)  sc-status  sc-substatus  \\\n",
       "0  http://www.google.com/search?sourceid=navclien...      200.0           0.0   \n",
       "1                                                  -      200.0           0.0   \n",
       "2  http://www.hotelTulip.com.hk/Tulip/home/en-us/...      200.0           0.0   \n",
       "3  http://www.hotelTulip.com.hk/Tulip/home/en-us/...      200.0           0.0   \n",
       "4  http://www.hotelTulip.com.hk/Tulip/home/en-us/...      200.0           0.0   \n",
       "\n",
       "   sc-win32-status  \n",
       "0              0.0  \n",
       "1              0.0  \n",
       "2              0.0  \n",
       "3              0.0  \n",
       "4              0.0  "
      ]
     },
     "execution_count": 5,
     "metadata": {},
     "output_type": "execute_result"
    }
   ],
   "source": [
    "Data.head(5)"
   ]
  },
  {
   "cell_type": "code",
   "execution_count": 6,
   "metadata": {},
   "outputs": [
    {
     "name": "stdout",
     "output_type": "stream",
     "text": [
      "This zip have 126583950.\n"
     ]
    }
   ],
   "source": [
    "Data.size\n",
    "print(\"This zip have %d.\" % Data.size)"
   ]
  },
  {
   "cell_type": "markdown",
   "metadata": {},
   "source": [
    "1.2 Data Cleaning\n",
    "Remove all NAs from data"
   ]
  },
  {
   "cell_type": "markdown",
   "metadata": {},
   "source": [
    "Check which columns have NAs"
   ]
  },
  {
   "cell_type": "code",
   "execution_count": 7,
   "metadata": {},
   "outputs": [
    {
     "name": "stdout",
     "output_type": "stream",
     "text": [
      "['2006-11-01' '2006-11-02' '2006-11-03' '2006-11-04' '2006-11-05'\n",
      " '2006-11-06' '2006-11-07' '2006-11-08' '2006-11-09' '2006-11-10'\n",
      " '2006-11-11' '2006-11-12' '2006-11-13' '2006-11-14' '2006-11-15'\n",
      " '2006-11-16' '2006-11-17' '2006-11-18' '2006-11-19' '2006-11-20'\n",
      " '2006-11-21' '2006-11-22' '2006-11-23' '2006-11-24' '2006-11-25'\n",
      " '2006-11-26' '2006-11-27' '2006-11-28' '2006-11-29' '2006-11-30'\n",
      " '2006-12-01' '2006-12-02' '2006-12-03' '2006-12-04' '2006-12-05'\n",
      " '2006-12-06' '2006-12-07' '2006-12-08' '2006-12-09' '2006-12-10'\n",
      " '2006-12-11' '2006-12-12' '2006-12-13' '2006-12-14' '2006-12-15'\n",
      " '2006-12-16' '2006-12-17' '2006-12-18' '2006-12-19' '2006-12-20'\n",
      " '2006-12-21' '2006-12-22' '2006-12-23' '2006-12-24' '2006-12-25'\n",
      " '2006-12-26' '2006-12-27' nan '2006-12-28' '2006-12-29' '2006-12-30'\n",
      " '2006-12-31' '2007-01-01' '2007-01-02' '2007-01-03' '2007-01-04'\n",
      " '2007-01-05' '2007-01-06' '2007-01-07' '2007-01-08' '2007-01-09'\n",
      " '2007-01-10' '2007-01-11' '2007-01-12' '2007-01-13' '2007-01-14'\n",
      " '2007-01-15' '2007-01-16' '2007-01-17' '2007-01-18' '2007-01-19'\n",
      " '2007-01-20' '2007-01-21' '2007-01-22' '2007-01-23' '2007-01-24'\n",
      " '2007-01-25' '2007-01-26' '2007-01-27' '2007-01-28' '2007-01-29'\n",
      " '2007-01-30' '2007-01-31' '2007-02-01' '2007-02-02' '2007-02-03'\n",
      " '2007-02-04' '2007-02-05' '2007-02-06' '2007-02-07' '2007-02-08'\n",
      " '2007-02-09' '2007-02-10' '2007-02-11' '2007-02-12' '2007-02-13'\n",
      " '2007-02-14' '2007-02-15' '2007-02-16' '2007-02-17' '2007-02-18'\n",
      " '2007-02-19' '2007-02-20' '2007-02-21' '2007-02-22' '2007-02-23'\n",
      " '2007-02-24' '2007-02-25' '2007-02-26' '2007-02-27' '2007-02-28'\n",
      " '2007-03-01']\n",
      "\n",
      "-----\n",
      "\n",
      "['00:00:08' '00:00:09' '00:00:10' ... '22:35:15' '23:47:40' '19:33:52']\n",
      "\n",
      "-----\n",
      "\n",
      "['W3SVC1' nan]\n",
      "\n",
      "-----\n",
      "\n",
      "['127.0.0.1' nan]\n",
      "\n",
      "-----\n",
      "\n",
      "['GET' 'POST' 'HEAD' 'OPTIONS' 'PROPFIND' 'PUT' nan]\n",
      "\n",
      "-----\n",
      "\n",
      "['/Default.aspx' '/Tulip/home/en-us/home_index.aspx'\n",
      " '/Tulip/includes/js/CommonUtil.js' ... '/Tulip/public/10227_6.jpg'\n",
      " '/Tulip/public/10227_3.jpg' '/promotion/FP01807_4.jpg']\n",
      "\n",
      "-----\n",
      "\n",
      "['-' 'lang=en-us' 'lang=ja' ... 'lang=zh-hk&refid=2935'\n",
      " 'jobPageId=179%E2%8C%A9=ja' 'jobPageId=180%E2%8C%A9=ja']\n",
      "\n",
      "-----\n",
      "\n",
      "[80. nan]\n",
      "\n",
      "-----\n",
      "\n",
      "['-' nan]\n",
      "\n",
      "-----\n",
      "\n",
      "['70.80.84.76' '220.111.108.195' '198.68.195.149' ... '219.79.31.19'\n",
      " '82.14.68.24' '218.103.233.8']\n",
      "\n",
      "-----\n",
      "\n",
      "['Mozilla/4.0+(compatible;+MSIE+6.0;+Windows+NT+5.1;+SV1)'\n",
      " 'Mozilla/4.0+(compatible;+MSIE+6.0;+Windows+NT+5.1;+SV1;+.NET+CLR+1.1.4322)'\n",
      " 'Mozilla/4.0+(compatible;+MSIE+6.0;+Windows+NT+5.1;+SV1;+InfoPath.1;+.NET+CLR+1.1.4322;+.NET+CLR+2.0.50727)'\n",
      " ...\n",
      " 'Mozilla/5.0+(Windows;+U;+Windows+NT+5.1;+en-US;+rv:1.7.12)+Gecko/20050915+Firefox/1.0.7+(CCK-Boeing)'\n",
      " 'Mozilla/5.0+(Windows;+U;+Windows+NT+6.0;+es-AR;+rv:1.8.1.1)+Gecko/20061204+Firefox/2.0.0.1'\n",
      " 'Mozilla/4.0+(compatible;+MSIE+6.0;+Windows+NT+5.1;+SV1;+ABN+AMRO;+.NET+CLR+1.1.4322)']\n",
      "\n",
      "-----\n",
      "\n",
      "['http://www.google.com/search?sourceid=navclient&aq=t&ie=UTF-8&rls=GGLD,GGLD:2005-19,GGLD:en&q=Tulip+hotel'\n",
      " '-' 'http://www.hotelTulip.com.hk/Tulip/home/en-us/home_index.aspx' ...\n",
      " 'http://mail.parklane.com.hk/cgi-bin/visionmail/visionmail-read.pl?sessionid=davidwong*mail.parklane.com.hk-session-0.710235698920773&folder=INBOX&page=1&longpage=0&sort=date&keyword=&searchtype=subject&message_id=%3C20070228101131.E0C8772F69%40mail.surfmanhk.com%3E&action=readmessage&headers=simple&attmode=simple&db_chkstatus=1'\n",
      " 'http://202.181.164.200/Tulip0506/bk.php?eid=143&mbid=6491&eid=143'\n",
      " 'http://by130fd.bay130.hotmail.msn.com/cgi-bin/getmsg?msg=1FE56BCC-850F-4687-86ED-825A32D3F459&mfs=&_HMaction=move&tobox=00000000-0000-0000-0000-000000000002&direction=next&wo=&curmbox=00000000%2d0000%2d0000%2d0000%2d000000000001&a=18eb1b0b2defcb1f09c4080cdf2ec05b5379badadb1053d65cfe70e664032c26']\n",
      "\n",
      "-----\n",
      "\n",
      "[200. 304. 206. 404. 301. 302. 500. 501.  nan 400. 403. 406. 416.]\n",
      "\n",
      "-----\n",
      "\n",
      "[ 0. nan 14.  1.  2.]\n",
      "\n",
      "-----\n",
      "\n",
      "[   0.   64.   22.  121.    2. 1236.    3.  123. 1231.   nan    5. 1232.\n",
      " 1260. 1234. 1229.]\n",
      "\n",
      "-----\n",
      "\n"
     ]
    }
   ],
   "source": [
    "for col_name in Data.columns:\n",
    "    print(Data[col_name].unique())\n",
    "    print('\\n-----\\n')"
   ]
  },
  {
   "cell_type": "markdown",
   "metadata": {},
   "source": [
    "For each of those columns, display the number of NA records"
   ]
  },
  {
   "cell_type": "code",
   "execution_count": 8,
   "metadata": {},
   "outputs": [
    {
     "data": {
      "text/plain": [
       "date                 0.000024\n",
       "time                 0.000024\n",
       "s-sitename           0.000024\n",
       "s-ip                 0.000024\n",
       "cs-method            0.000024\n",
       "cs-uri-stem          0.000024\n",
       "cs-uri-query        93.454194\n",
       "s-port               0.000024\n",
       "cs-username        100.000000\n",
       "c-ip                 0.000024\n",
       "cs(User-Agent)       0.041818\n",
       "cs(Referer)         15.519242\n",
       "sc-status            0.008982\n",
       "sc-substatus         0.008982\n",
       "sc-win32-status      0.008982\n",
       "dtype: float64"
      ]
     },
     "execution_count": 8,
     "metadata": {},
     "output_type": "execute_result"
    }
   ],
   "source": [
    "Data.replace('-', np.nan, inplace =True)\n",
    "Data.isnull().sum()*100/len(Data)"
   ]
  },
  {
   "cell_type": "markdown",
   "metadata": {},
   "source": [
    "Remove all records with any NAs."
   ]
  },
  {
   "cell_type": "code",
   "execution_count": 9,
   "metadata": {
    "scrolled": false
   },
   "outputs": [
    {
     "name": "stdout",
     "output_type": "stream",
     "text": [
      "             date      time s-sitename       s-ip cs-method  \\\n",
      "0      2006-11-01  00:00:08     W3SVC1  127.0.0.1       GET   \n",
      "1      2006-11-01  00:00:08     W3SVC1  127.0.0.1       GET   \n",
      "2      2006-11-01  00:00:08     W3SVC1  127.0.0.1       GET   \n",
      "3      2006-11-01  00:00:09     W3SVC1  127.0.0.1       GET   \n",
      "4      2006-11-01  00:00:09     W3SVC1  127.0.0.1       GET   \n",
      "...           ...       ...        ...        ...       ...   \n",
      "63741  2007-02-28  23:59:57     W3SVC1  127.0.0.1       GET   \n",
      "63742  2007-02-28  23:59:57     W3SVC1  127.0.0.1       GET   \n",
      "63743  2007-02-28  23:59:57     W3SVC1  127.0.0.1       GET   \n",
      "63744  2007-02-28  23:59:57     W3SVC1  127.0.0.1       GET   \n",
      "63745  2007-03-01  00:00:00     W3SVC1  127.0.0.1       GET   \n",
      "\n",
      "                                             cs-uri-stem  s-port  \\\n",
      "0                                          /Default.aspx    80.0   \n",
      "1                      /Tulip/home/en-us/home_index.aspx    80.0   \n",
      "2                       /Tulip/includes/js/CommonUtil.js    80.0   \n",
      "3                        /Tulip/common/common_style.aspx    80.0   \n",
      "4                 /Tulip/common/en-us/images/top_img.jpg    80.0   \n",
      "...                                                  ...     ...   \n",
      "63741  /Tulip/common/en-us/images/sectionbanner_green...    80.0   \n",
      "63742  /Tulip/common/en-us/images/sectionbanner_recru...    80.0   \n",
      "63743                /Tulip/home/en-us/images/awards.jpg    80.0   \n",
      "63744              /Tulip/common/en-us/images/bottom.jpg    80.0   \n",
      "63745  /Tulip/common/en-us/images/sectionbanner_accom...    80.0   \n",
      "\n",
      "                c-ip                                     cs(User-Agent)  \\\n",
      "0        70.80.84.76  Mozilla/4.0+(compatible;+MSIE+6.0;+Windows+NT+...   \n",
      "1        70.80.84.76  Mozilla/4.0+(compatible;+MSIE+6.0;+Windows+NT+...   \n",
      "2        70.80.84.76  Mozilla/4.0+(compatible;+MSIE+6.0;+Windows+NT+...   \n",
      "3        70.80.84.76  Mozilla/4.0+(compatible;+MSIE+6.0;+Windows+NT+...   \n",
      "4        70.80.84.76  Mozilla/4.0+(compatible;+MSIE+6.0;+Windows+NT+...   \n",
      "...              ...                                                ...   \n",
      "63741  74.110.32.161  Mozilla/4.0+(compatible;+MSIE+6.0;+Windows+NT+...   \n",
      "63742  74.110.32.161  Mozilla/4.0+(compatible;+MSIE+6.0;+Windows+NT+...   \n",
      "63743  74.110.32.161  Mozilla/4.0+(compatible;+MSIE+6.0;+Windows+NT+...   \n",
      "63744  74.110.32.161  Mozilla/4.0+(compatible;+MSIE+6.0;+Windows+NT+...   \n",
      "63745  74.110.32.161  Mozilla/4.0+(compatible;+MSIE+6.0;+Windows+NT+...   \n",
      "\n",
      "       sc-status  sc-substatus  sc-win32-status  \n",
      "0          200.0           0.0              0.0  \n",
      "1          200.0           0.0              0.0  \n",
      "2          200.0           0.0              0.0  \n",
      "3          200.0           0.0              0.0  \n",
      "4          200.0           0.0              0.0  \n",
      "...          ...           ...              ...  \n",
      "63741      200.0           0.0              0.0  \n",
      "63742      200.0           0.0              0.0  \n",
      "63743      200.0           0.0              0.0  \n",
      "63744      200.0           0.0              0.0  \n",
      "63745      200.0           0.0              0.0  \n",
      "\n",
      "[8438930 rows x 12 columns]\n"
     ]
    }
   ],
   "source": [
    "df1=Data.drop(['cs-uri-query','cs-username','cs(Referer)'],axis=1)\n",
    "print(df1)"
   ]
  },
  {
   "cell_type": "code",
   "execution_count": 10,
   "metadata": {
    "scrolled": true
   },
   "outputs": [
    {
     "name": "stdout",
     "output_type": "stream",
     "text": [
      "             date      time s-sitename       s-ip cs-method  \\\n",
      "0      2006-11-01  00:00:08     W3SVC1  127.0.0.1       GET   \n",
      "1      2006-11-01  00:00:08     W3SVC1  127.0.0.1       GET   \n",
      "2      2006-11-01  00:00:08     W3SVC1  127.0.0.1       GET   \n",
      "3      2006-11-01  00:00:09     W3SVC1  127.0.0.1       GET   \n",
      "4      2006-11-01  00:00:09     W3SVC1  127.0.0.1       GET   \n",
      "...           ...       ...        ...        ...       ...   \n",
      "63741  2007-02-28  23:59:57     W3SVC1  127.0.0.1       GET   \n",
      "63742  2007-02-28  23:59:57     W3SVC1  127.0.0.1       GET   \n",
      "63743  2007-02-28  23:59:57     W3SVC1  127.0.0.1       GET   \n",
      "63744  2007-02-28  23:59:57     W3SVC1  127.0.0.1       GET   \n",
      "63745  2007-03-01  00:00:00     W3SVC1  127.0.0.1       GET   \n",
      "\n",
      "                                             cs-uri-stem  s-port  \\\n",
      "0                                          /Default.aspx    80.0   \n",
      "1                      /Tulip/home/en-us/home_index.aspx    80.0   \n",
      "2                       /Tulip/includes/js/CommonUtil.js    80.0   \n",
      "3                        /Tulip/common/common_style.aspx    80.0   \n",
      "4                 /Tulip/common/en-us/images/top_img.jpg    80.0   \n",
      "...                                                  ...     ...   \n",
      "63741  /Tulip/common/en-us/images/sectionbanner_green...    80.0   \n",
      "63742  /Tulip/common/en-us/images/sectionbanner_recru...    80.0   \n",
      "63743                /Tulip/home/en-us/images/awards.jpg    80.0   \n",
      "63744              /Tulip/common/en-us/images/bottom.jpg    80.0   \n",
      "63745  /Tulip/common/en-us/images/sectionbanner_accom...    80.0   \n",
      "\n",
      "                c-ip                                     cs(User-Agent)  \\\n",
      "0        70.80.84.76  Mozilla/4.0+(compatible;+MSIE+6.0;+Windows+NT+...   \n",
      "1        70.80.84.76  Mozilla/4.0+(compatible;+MSIE+6.0;+Windows+NT+...   \n",
      "2        70.80.84.76  Mozilla/4.0+(compatible;+MSIE+6.0;+Windows+NT+...   \n",
      "3        70.80.84.76  Mozilla/4.0+(compatible;+MSIE+6.0;+Windows+NT+...   \n",
      "4        70.80.84.76  Mozilla/4.0+(compatible;+MSIE+6.0;+Windows+NT+...   \n",
      "...              ...                                                ...   \n",
      "63741  74.110.32.161  Mozilla/4.0+(compatible;+MSIE+6.0;+Windows+NT+...   \n",
      "63742  74.110.32.161  Mozilla/4.0+(compatible;+MSIE+6.0;+Windows+NT+...   \n",
      "63743  74.110.32.161  Mozilla/4.0+(compatible;+MSIE+6.0;+Windows+NT+...   \n",
      "63744  74.110.32.161  Mozilla/4.0+(compatible;+MSIE+6.0;+Windows+NT+...   \n",
      "63745  74.110.32.161  Mozilla/4.0+(compatible;+MSIE+6.0;+Windows+NT+...   \n",
      "\n",
      "       sc-status  sc-substatus  sc-win32-status  \n",
      "0          200.0           0.0              0.0  \n",
      "1          200.0           0.0              0.0  \n",
      "2          200.0           0.0              0.0  \n",
      "3          200.0           0.0              0.0  \n",
      "4          200.0           0.0              0.0  \n",
      "...          ...           ...              ...  \n",
      "63741      200.0           0.0              0.0  \n",
      "63742      200.0           0.0              0.0  \n",
      "63743      200.0           0.0              0.0  \n",
      "63744      200.0           0.0              0.0  \n",
      "63745      200.0           0.0              0.0  \n",
      "\n",
      "[8434645 rows x 12 columns]\n"
     ]
    }
   ],
   "source": [
    "df2=df1.dropna(how='any',axis=0)\n",
    "print(df2)"
   ]
  },
  {
   "cell_type": "code",
   "execution_count": 11,
   "metadata": {},
   "outputs": [],
   "source": [
    "# df2.to_csv('output11.csv')"
   ]
  },
  {
   "cell_type": "markdown",
   "metadata": {},
   "source": [
    "2. Data Statistics Description\n",
    "2.1 Traffic Analysis\n",
    "Discover on the traffics by analysing hourly requests, then plot it into Bar Chart."
   ]
  },
  {
   "cell_type": "code",
   "execution_count": 12,
   "metadata": {},
   "outputs": [
    {
     "name": "stdout",
     "output_type": "stream",
     "text": [
      "DatetimeIndex(['2006-11-01 00:00:00', '2006-11-01 01:00:00',\n",
      "               '2006-11-01 02:00:00', '2006-11-01 03:00:00',\n",
      "               '2006-11-01 04:00:00', '2006-11-01 05:00:00',\n",
      "               '2006-11-01 06:00:00', '2006-11-01 07:00:00',\n",
      "               '2006-11-01 08:00:00', '2006-11-01 09:00:00',\n",
      "               ...\n",
      "               '2007-02-27 15:00:00', '2007-02-27 16:00:00',\n",
      "               '2007-02-27 17:00:00', '2007-02-27 18:00:00',\n",
      "               '2007-02-27 19:00:00', '2007-02-27 20:00:00',\n",
      "               '2007-02-27 21:00:00', '2007-02-27 22:00:00',\n",
      "               '2007-02-27 23:00:00', '2007-02-28 00:00:00'],\n",
      "              dtype='datetime64[ns]', length=2857, freq='H')\n"
     ]
    }
   ],
   "source": [
    "time=pd.date_range(start=\"2006-11-1\", end=\"2007-2-28\", freq='H')\n",
    "print(time)"
   ]
  },
  {
   "cell_type": "code",
   "execution_count": 13,
   "metadata": {
    "scrolled": true
   },
   "outputs": [
    {
     "name": "stderr",
     "output_type": "stream",
     "text": [
      "<ipython-input-13-6219714cfbba>:2: SettingWithCopyWarning: \n",
      "A value is trying to be set on a copy of a slice from a DataFrame.\n",
      "Try using .loc[row_indexer,col_indexer] = value instead\n",
      "\n",
      "See the caveats in the documentation: https://pandas.pydata.org/pandas-docs/stable/user_guide/indexing.html#returning-a-view-versus-a-copy\n",
      "  df2['time_fomat'] = pd.to_datetime(df2.time)\n"
     ]
    }
   ],
   "source": [
    "index=0\n",
    "df2['time_fomat'] = pd.to_datetime(df2.time)\n",
    "len_row = np.shape(df2)[0]\n",
    "row_idx = pd.Series(range(0,len_row))\n",
    "row_idx = np.array(row_idx)\n",
    "\n",
    "count= pd.DataFrame({'row_idx':row_idx}, index=df2['time_fomat'])\n",
    "times_span = [\"t0\", \"t1\", \"t2\", \"t3\", \"t4\", \"t5\", \"t6\", \"t7\",\n",
    "                \"t8\", \"t9\", \"t10\", \"t11\", \"t12\", \"t13\", \"t14\", \"t15\",\n",
    "                \"t16\", \"t17\", \"t18\", \"t19\", \"t20\", \"t21\", \"t22\", \"t23\"]\n",
    "t0 = count.between_time('00:00:00', '00:59:59')\n",
    "t1 = count.between_time('01:00:00', '01:59:59')\n",
    "t2 = count.between_time('02:00:00', '02:59:59')\n",
    "t3 = count.between_time('03:00:00', '03:59:59')\n",
    "t4 = count.between_time('04:00:00', '04:59:59')\n",
    "t5= count.between_time('05:00:00', '05:59:59')\n",
    "t6 = count.between_time('06:00:00', '06:59:59')\n",
    "t7 = count.between_time('07:00:00', '07:59:59')\n",
    "t8 = count.between_time('08:00:00', '08:59:59')\n",
    "t9 = count.between_time('09:00:00', '09:59:59')\n",
    "t10 = count.between_time('10:00:00', '10:59:59')\n",
    "t11 = count.between_time('11:00:00', '11:59:59')\n",
    "t12 = count.between_time('12:00:00', '12:59:59')\n",
    "t13 = count.between_time('13:00:00', '13:59:59')\n",
    "t14 = count.between_time('14:00:00', '14:59:59')\n",
    "t15 = count.between_time('15:00:00', '15:59:59')\n",
    "t16 = count.between_time('16:00:00', '16:59:59')\n",
    "t17 = count.between_time('17:00:00', '17:59:59')\n",
    "t18 = count.between_time('18:00:00', '18:59:59')\n",
    "t19 = count.between_time('19:00:00', '19:59:59')\n",
    "t20 = count.between_time('20:00:00', '20:59:59')\n",
    "t21 = count.between_time('21:00:00', '21:59:59')\n",
    "t22 = count.between_time('22:00:00', '22:59:59')\n",
    "t23 = count.between_time('23:00:00', '23:59:59')\n",
    "\n",
    "count_number = [len(t0), len(t1), len(t2), len(t3), len(t4), len(t5), len(t6),\n",
    "           len(t7), len(t8), len(t9), len(t10), len(t11), len(t12), len(t13),\n",
    "           len(t14), len(t15), len(t16), len(t17), len(t18), len(t19), len(t20),\n",
    "           len(t21), len(t22), len(t23)]"
   ]
  },
  {
   "cell_type": "code",
   "execution_count": 14,
   "metadata": {
    "scrolled": true
   },
   "outputs": [
    {
     "data": {
      "image/png": "[encoded data removed]",
      "text/plain": [
       "<Figure size 720x720 with 1 Axes>"
      ]
     },
     "metadata": {
      "needs_background": "light"
     },
     "output_type": "display_data"
    }
   ],
   "source": [
    "fig = plt.figure(figsize =(10, 10))\n",
    "ax = fig.add_axes([0,0,1,1],)\n",
    "ax.bar(times_span, count_number)\n",
    "plt.xlabel(\"Hours\")\n",
    "plt.ylabel(\"Hourly count\")\n",
    "plt.title('Requests per Hour')\n",
    "plt.show()"
   ]
  },
  {
   "cell_type": "markdown",
   "metadata": {},
   "source": [
    "You are required to filter the hourly requests by removing any below 490,000 and above 400,000. (hourly_request_amount >= 400000 & hourly_request_amount <= 490000)"
   ]
  },
  {
   "cell_type": "code",
   "execution_count": 15,
   "metadata": {},
   "outputs": [
    {
     "name": "stdout",
     "output_type": "stream",
     "text": [
      "['t2', 't5', 't10', 't13', 't15']\n",
      "[432289, 487306, 443413, 442414, 472843]\n"
     ]
    }
   ],
   "source": [
    "count_number\n",
    "idx=-1\n",
    "hold_req=[]\n",
    "hold_idx=[]\n",
    "for i in count_number:\n",
    "    idx += 1\n",
    "    if ((i >= 400000) & (i <= 490000)):\n",
    "        hold_req.append(i)\n",
    "        hold_idx.append(idx)\n",
    "selected_time = [times_span[i] for i in hold_idx]\n",
    "print(selected_time)\n",
    "print(hold_req)"
   ]
  },
  {
   "cell_type": "markdown",
   "metadata": {},
   "source": [
    "2.2 Server Analysis\n",
    "Discover on the server status using 'sc-status' from DataFrame, then plot it into Pie Chart."
   ]
  },
  {
   "cell_type": "code",
   "execution_count": 16,
   "metadata": {},
   "outputs": [
    {
     "data": {
      "text/plain": [
       "array([200., 304., 206., 404., 301., 302., 500., 501., 400., 403., 406.,\n",
       "       416.])"
      ]
     },
     "execution_count": 16,
     "metadata": {},
     "output_type": "execute_result"
    }
   ],
   "source": [
    "df2[\"sc-status\"].unique()"
   ]
  },
  {
   "cell_type": "code",
   "execution_count": 17,
   "metadata": {},
   "outputs": [],
   "source": [
    "count_sc_status = df2[\"sc-status\"].value_counts().sort_index()\n",
    "count2 = count_sc_status[count_sc_status.gt(10000)]"
   ]
  },
  {
   "cell_type": "markdown",
   "metadata": {},
   "source": [
    "Server Status"
   ]
  },
  {
   "cell_type": "code",
   "execution_count": 18,
   "metadata": {},
   "outputs": [
    {
     "data": {
      "text/plain": [
       "Text(0.5, 1.0, 'Server Status')"
      ]
     },
     "execution_count": 18,
     "metadata": {},
     "output_type": "execute_result"
    },
    {
     "data": {
      "image/png": "[encoded data removed]",
      "text/plain": [
       "<Figure size 720x720 with 1 Axes>"
      ]
     },
     "metadata": {},
     "output_type": "display_data"
    }
   ],
   "source": [
    "count2.plot.pie(autopct = '%.2f',figsize=(10, 10),)\n",
    "plt.title(\"Server Status\")"
   ]
  },
  {
   "cell_type": "markdown",
   "metadata": {},
   "source": [
    "2.3 Geographic Analysis\n",
    "2.3.A Requests by Country\n",
    "1. Select all requests at 01 Jan 2007 from 20:00:00 pm to 20:59:59.\n",
    "2. Discover on the demographics by analysing requests from country level.\n",
    "3. Plot countries of all requests in pie chart.\n",
    "4. List top 3 with the numbers of requests."
   ]
  },
  {
   "cell_type": "code",
   "execution_count": 19,
   "metadata": {},
   "outputs": [
    {
     "name": "stdout",
     "output_type": "stream",
     "text": [
      "Requirement already satisfied: ip2geotools in c:\\software\\anaconda\\install\\lib\\site-packages (0.1.5)\n",
      "Requirement already satisfied: idna>=2.7 in c:\\software\\anaconda\\install\\lib\\site-packages (from ip2geotools) (2.10)\n",
      "Requirement already satisfied: maxminddb>=1.4.1 in c:\\software\\anaconda\\install\\lib\\site-packages (from ip2geotools) (2.0.3)\n",
      "Requirement already satisfied: lazy-object-proxy>=1.3.1 in c:\\software\\anaconda\\install\\lib\\site-packages (from ip2geotools) (1.4.3)\n",
      "Requirement already satisfied: webencodings>=0.5.1 in c:\\software\\anaconda\\install\\lib\\site-packages (from ip2geotools) (0.5.1)\n",
      "Requirement already satisfied: packaging>=18.0 in c:\\software\\anaconda\\install\\lib\\site-packages (from ip2geotools) (20.4)\n",
      "Requirement already satisfied: six>=1.11.0 in c:\\software\\anaconda\\install\\lib\\site-packages (from ip2geotools) (1.15.0)\n",
      "Requirement already satisfied: autopep8>=1.4.3 in c:\\software\\anaconda\\install\\lib\\site-packages (from ip2geotools) (1.5.4)\n",
      "Requirement already satisfied: urllib3>=1.24.1 in c:\\software\\anaconda\\install\\lib\\site-packages (from ip2geotools) (1.25.11)\n",
      "Requirement already satisfied: chardet>=3.0.4 in c:\\software\\anaconda\\install\\lib\\site-packages (from ip2geotools) (3.0.4)\n",
      "Requirement already satisfied: Pygments>=2.3.0 in c:\\software\\anaconda\\install\\lib\\site-packages (from ip2geotools) (2.7.2)\n",
      "Requirement already satisfied: pyparsing>=2.3.0 in c:\\software\\anaconda\\install\\lib\\site-packages (from ip2geotools) (2.4.7)\n",
      "Requirement already satisfied: mccabe>=0.6.1 in c:\\software\\anaconda\\install\\lib\\site-packages (from ip2geotools) (0.6.1)\n",
      "Requirement already satisfied: wrapt>=1.10.11 in c:\\software\\anaconda\\install\\lib\\site-packages (from ip2geotools) (1.11.2)\n",
      "Requirement already satisfied: Click>=7.0 in c:\\software\\anaconda\\install\\lib\\site-packages (from ip2geotools) (7.1.2)\n",
      "Requirement already satisfied: dicttoxml>=1.7.4 in c:\\software\\anaconda\\install\\lib\\site-packages (from ip2geotools) (1.7.4)\n",
      "Requirement already satisfied: pycodestyle>=2.4.0 in c:\\software\\anaconda\\install\\lib\\site-packages (from ip2geotools) (2.6.0)\n",
      "Requirement already satisfied: geoip2>=2.9.0 in c:\\software\\anaconda\\install\\lib\\site-packages (from ip2geotools) (4.1.0)\n",
      "Requirement already satisfied: decorator>=4.3.0 in c:\\software\\anaconda\\install\\lib\\site-packages (from ip2geotools) (4.4.2)\n",
      "Requirement already satisfied: ratelim>=0.1.6 in c:\\software\\anaconda\\install\\lib\\site-packages (from ip2geotools) (0.1.6)\n",
      "Requirement already satisfied: isort>=4.3.4 in c:\\software\\anaconda\\install\\lib\\site-packages (from ip2geotools) (5.6.4)\n",
      "Requirement already satisfied: requests>=2.20.1 in c:\\software\\anaconda\\install\\lib\\site-packages (from ip2geotools) (2.24.0)\n",
      "Requirement already satisfied: certifi>=2018.10.15 in c:\\software\\anaconda\\install\\lib\\site-packages (from ip2geotools) (2020.6.20)\n",
      "Requirement already satisfied: docutils>=0.14 in c:\\software\\anaconda\\install\\lib\\site-packages (from ip2geotools) (0.16)\n",
      "Requirement already satisfied: future>=0.17.1 in c:\\software\\anaconda\\install\\lib\\site-packages (from ip2geotools) (0.18.2)\n",
      "Requirement already satisfied: pylint>=2.2.0 in c:\\software\\anaconda\\install\\lib\\site-packages (from ip2geotools) (2.6.0)\n",
      "Requirement already satisfied: selenium>=3.141.0 in c:\\software\\anaconda\\install\\lib\\site-packages (from ip2geotools) (3.141.0)\n",
      "Requirement already satisfied: typed-ast>=1.1.0 in c:\\software\\anaconda\\install\\lib\\site-packages (from ip2geotools) (1.4.3)\n",
      "Requirement already satisfied: bleach>=3.0.2 in c:\\software\\anaconda\\install\\lib\\site-packages (from ip2geotools) (3.2.1)\n",
      "Requirement already satisfied: requests-toolbelt>=0.8.0 in c:\\software\\anaconda\\install\\lib\\site-packages (from ip2geotools) (0.9.1)\n",
      "Requirement already satisfied: pyquery>=1.4.0 in c:\\software\\anaconda\\install\\lib\\site-packages (from ip2geotools) (1.4.3)\n",
      "Requirement already satisfied: readme-renderer>=24.0 in c:\\software\\anaconda\\install\\lib\\site-packages (from ip2geotools) (29.0)\n",
      "Requirement already satisfied: IP2Location>=8.0.3 in c:\\software\\anaconda\\install\\lib\\site-packages (from ip2geotools) (8.5.1)\n",
      "Requirement already satisfied: pkginfo>=1.4.2 in c:\\software\\anaconda\\install\\lib\\site-packages (from ip2geotools) (1.6.1)\n",
      "Requirement already satisfied: twine>=1.12.1 in c:\\software\\anaconda\\install\\lib\\site-packages (from ip2geotools) (3.4.1)\n",
      "Requirement already satisfied: pip-review>=1.0 in c:\\software\\anaconda\\install\\lib\\site-packages (from ip2geotools) (1.1.0)\n",
      "Requirement already satisfied: tqdm>=4.28.1 in c:\\software\\anaconda\\install\\lib\\site-packages (from ip2geotools) (4.50.2)\n",
      "Requirement already satisfied: geocoder>=1.38.1 in c:\\software\\anaconda\\install\\lib\\site-packages (from ip2geotools) (1.38.1)\n",
      "Requirement already satisfied: astroid>=2.1.0 in c:\\software\\anaconda\\install\\lib\\site-packages (from ip2geotools) (2.4.2)\n",
      "Requirement already satisfied: typing>=3.6.6 in c:\\software\\anaconda\\install\\lib\\site-packages (from ip2geotools) (3.7.4.3)\n",
      "Requirement already satisfied: cssselect>=1.0.3 in c:\\software\\anaconda\\install\\lib\\site-packages (from ip2geotools) (1.1.0)\n",
      "Requirement already satisfied: lxml>=4.2.5 in c:\\software\\anaconda\\install\\lib\\site-packages (from ip2geotools) (4.6.1)\n",
      "Requirement already satisfied: toml in c:\\software\\anaconda\\install\\lib\\site-packages (from autopep8>=1.4.3->ip2geotools) (0.10.1)\n",
      "Requirement already satisfied: aiohttp<4.0.0,>=3.6.2 in c:\\software\\anaconda\\install\\lib\\site-packages (from geoip2>=2.9.0->ip2geotools) (3.7.4.post0)\n",
      "Requirement already satisfied: colorama; sys_platform == \"win32\" in c:\\software\\anaconda\\install\\lib\\site-packages (from pylint>=2.2.0->ip2geotools) (0.4.4)\n",
      "Requirement already satisfied: keyring>=15.1 in c:\\software\\anaconda\\install\\lib\\site-packages (from twine>=1.12.1->ip2geotools) (21.4.0)\n",
      "Requirement already satisfied: rfc3986>=1.4.0 in c:\\software\\anaconda\\install\\lib\\site-packages (from twine>=1.12.1->ip2geotools) (1.4.0)\n",
      "Requirement already satisfied: importlib-metadata>=3.6 in c:\\software\\anaconda\\install\\lib\\site-packages (from twine>=1.12.1->ip2geotools) (3.10.1)\n",
      "Requirement already satisfied: pip in c:\\software\\anaconda\\install\\lib\\site-packages (from pip-review>=1.0->ip2geotools) (20.2.4)\n",
      "Requirement already satisfied: async-timeout<4.0,>=3.0 in c:\\software\\anaconda\\install\\lib\\site-packages (from aiohttp<4.0.0,>=3.6.2->geoip2>=2.9.0->ip2geotools) (3.0.1)\n",
      "Requirement already satisfied: multidict<7.0,>=4.5 in c:\\software\\anaconda\\install\\lib\\site-packages (from aiohttp<4.0.0,>=3.6.2->geoip2>=2.9.0->ip2geotools) (5.1.0)\n",
      "Requirement already satisfied: yarl<2.0,>=1.0 in c:\\software\\anaconda\\install\\lib\\site-packages (from aiohttp<4.0.0,>=3.6.2->geoip2>=2.9.0->ip2geotools) (1.6.3)\n",
      "Requirement already satisfied: attrs>=17.3.0 in c:\\software\\anaconda\\install\\lib\\site-packages (from aiohttp<4.0.0,>=3.6.2->geoip2>=2.9.0->ip2geotools) (20.3.0)\n",
      "Requirement already satisfied: typing-extensions>=3.6.5 in c:\\software\\anaconda\\install\\lib\\site-packages (from aiohttp<4.0.0,>=3.6.2->geoip2>=2.9.0->ip2geotools) (3.7.4.3)\n",
      "Requirement already satisfied: pywin32-ctypes!=0.1.0,!=0.1.1; sys_platform == \"win32\" in c:\\software\\anaconda\\install\\lib\\site-packages (from keyring>=15.1->twine>=1.12.1->ip2geotools) (0.2.0)\n",
      "Requirement already satisfied: zipp>=0.5 in c:\\software\\anaconda\\install\\lib\\site-packages (from importlib-metadata>=3.6->twine>=1.12.1->ip2geotools) (3.4.0)\n"
     ]
    }
   ],
   "source": [
    "!pip install ip2geotools\n",
    "from ip2geotools.databases.noncommercial import DbIpCity"
   ]
  },
  {
   "cell_type": "code",
   "execution_count": 38,
   "metadata": {},
   "outputs": [
    {
     "name": "stderr",
     "output_type": "stream",
     "text": [
      "<ipython-input-38-b2e5a8e5fccb>:2: SettingWithCopyWarning: \n",
      "A value is trying to be set on a copy of a slice from a DataFrame.\n",
      "Try using .loc[row_indexer,col_indexer] = value instead\n",
      "\n",
      "See the caveats in the documentation: https://pandas.pydata.org/pandas-docs/stable/user_guide/indexing.html#returning-a-view-versus-a-copy\n",
      "  requests_by_country['Country'] = requests_by_country.apply(lambda row: DbIpCity.get(row['c-ip'],api_key='free').country, axis=1)\n"
     ]
    }
   ],
   "source": [
    "requests_by_country = df2[(df2[\"time\"].str[:2]==\"20\") & (df2[\"date\"]==\"2007-01-01\")]\n",
    "requests_by_country['Country'] = requests_by_country.apply(lambda row: DbIpCity.get(row['c-ip'],api_key='free').country, axis=1)"
   ]
  },
  {
   "cell_type": "code",
   "execution_count": 54,
   "metadata": {},
   "outputs": [
    {
     "data": {
      "text/html": [
       "<div>\n",
       "<style scoped>\n",
       "    .dataframe tbody tr th:only-of-type {\n",
       "        vertical-align: middle;\n",
       "    }\n",
       "\n",
       "    .dataframe tbody tr th {\n",
       "        vertical-align: top;\n",
       "    }\n",
       "\n",
       "    .dataframe thead th {\n",
       "        text-align: right;\n",
       "    }\n",
       "</style>\n",
       "<table border=\"1\" class=\"dataframe\">\n",
       "  <thead>\n",
       "    <tr style=\"text-align: right;\">\n",
       "      <th></th>\n",
       "      <th>date</th>\n",
       "      <th>time</th>\n",
       "      <th>s-sitename</th>\n",
       "      <th>s-ip</th>\n",
       "      <th>cs-method</th>\n",
       "      <th>cs-uri-stem</th>\n",
       "      <th>s-port</th>\n",
       "      <th>c-ip</th>\n",
       "      <th>cs(User-Agent)</th>\n",
       "      <th>sc-status</th>\n",
       "      <th>sc-substatus</th>\n",
       "      <th>sc-win32-status</th>\n",
       "      <th>time_fomat</th>\n",
       "      <th>Country</th>\n",
       "    </tr>\n",
       "  </thead>\n",
       "  <tbody>\n",
       "    <tr>\n",
       "      <th>28823</th>\n",
       "      <td>2007-01-01</td>\n",
       "      <td>20:00:00</td>\n",
       "      <td>W3SVC1</td>\n",
       "      <td>127.0.0.1</td>\n",
       "      <td>GET</td>\n",
       "      <td>/Tulip/home/en-us/home_index.aspx</td>\n",
       "      <td>80.0</td>\n",
       "      <td>210.184.71.81</td>\n",
       "      <td>Mozilla/4.0+(compatible;+MSIE+6.0;+Windows+NT+...</td>\n",
       "      <td>200.0</td>\n",
       "      <td>0.0</td>\n",
       "      <td>0.0</td>\n",
       "      <td>2021-04-19 20:00:00</td>\n",
       "      <td>HK</td>\n",
       "    </tr>\n",
       "    <tr>\n",
       "      <th>28824</th>\n",
       "      <td>2007-01-01</td>\n",
       "      <td>20:00:00</td>\n",
       "      <td>W3SVC1</td>\n",
       "      <td>127.0.0.1</td>\n",
       "      <td>GET</td>\n",
       "      <td>/Tulip/common/common_style.aspx</td>\n",
       "      <td>80.0</td>\n",
       "      <td>210.184.71.81</td>\n",
       "      <td>Mozilla/4.0+(compatible;+MSIE+6.0;+Windows+NT+...</td>\n",
       "      <td>200.0</td>\n",
       "      <td>0.0</td>\n",
       "      <td>0.0</td>\n",
       "      <td>2021-04-19 20:00:00</td>\n",
       "      <td>HK</td>\n",
       "    </tr>\n",
       "    <tr>\n",
       "      <th>28825</th>\n",
       "      <td>2007-01-01</td>\n",
       "      <td>20:01:12</td>\n",
       "      <td>W3SVC1</td>\n",
       "      <td>127.0.0.1</td>\n",
       "      <td>GET</td>\n",
       "      <td>/Tulip/aboutus/en-us/photo/HarbourViewRoom02.jpg</td>\n",
       "      <td>80.0</td>\n",
       "      <td>62.211.200.146</td>\n",
       "      <td>Mozilla/5.0+(X11;+U;+Linux+i686;+en-US;+rv:1.8...</td>\n",
       "      <td>200.0</td>\n",
       "      <td>0.0</td>\n",
       "      <td>0.0</td>\n",
       "      <td>2021-04-19 20:01:12</td>\n",
       "      <td>IT</td>\n",
       "    </tr>\n",
       "    <tr>\n",
       "      <th>28826</th>\n",
       "      <td>2007-01-01</td>\n",
       "      <td>20:01:48</td>\n",
       "      <td>W3SVC1</td>\n",
       "      <td>127.0.0.1</td>\n",
       "      <td>GET</td>\n",
       "      <td>/Tulip/aboutus/en-us/photo/SkyLounge01.jpg</td>\n",
       "      <td>80.0</td>\n",
       "      <td>62.211.200.146</td>\n",
       "      <td>Mozilla/5.0+(X11;+U;+Linux+i686;+en-US;+rv:1.8...</td>\n",
       "      <td>200.0</td>\n",
       "      <td>0.0</td>\n",
       "      <td>0.0</td>\n",
       "      <td>2021-04-19 20:01:48</td>\n",
       "      <td>IT</td>\n",
       "    </tr>\n",
       "    <tr>\n",
       "      <th>28827</th>\n",
       "      <td>2007-01-01</td>\n",
       "      <td>20:01:57</td>\n",
       "      <td>W3SVC1</td>\n",
       "      <td>127.0.0.1</td>\n",
       "      <td>GET</td>\n",
       "      <td>/Tulip/aboutus/en-us/photo/SuperiorRoom01.jpg</td>\n",
       "      <td>80.0</td>\n",
       "      <td>62.211.200.146</td>\n",
       "      <td>Mozilla/5.0+(X11;+U;+Linux+i686;+en-US;+rv:1.8...</td>\n",
       "      <td>200.0</td>\n",
       "      <td>0.0</td>\n",
       "      <td>0.0</td>\n",
       "      <td>2021-04-19 20:01:57</td>\n",
       "      <td>IT</td>\n",
       "    </tr>\n",
       "    <tr>\n",
       "      <th>...</th>\n",
       "      <td>...</td>\n",
       "      <td>...</td>\n",
       "      <td>...</td>\n",
       "      <td>...</td>\n",
       "      <td>...</td>\n",
       "      <td>...</td>\n",
       "      <td>...</td>\n",
       "      <td>...</td>\n",
       "      <td>...</td>\n",
       "      <td>...</td>\n",
       "      <td>...</td>\n",
       "      <td>...</td>\n",
       "      <td>...</td>\n",
       "      <td>...</td>\n",
       "    </tr>\n",
       "    <tr>\n",
       "      <th>29032</th>\n",
       "      <td>2007-01-01</td>\n",
       "      <td>20:52:46</td>\n",
       "      <td>W3SVC1</td>\n",
       "      <td>127.0.0.1</td>\n",
       "      <td>GET</td>\n",
       "      <td>/robots.txt</td>\n",
       "      <td>80.0</td>\n",
       "      <td>74.6.85.161</td>\n",
       "      <td>Mozilla/5.0+(compatible;+Yahoo!+Slurp;+http://...</td>\n",
       "      <td>404.0</td>\n",
       "      <td>0.0</td>\n",
       "      <td>2.0</td>\n",
       "      <td>2021-04-19 20:52:46</td>\n",
       "      <td>US</td>\n",
       "    </tr>\n",
       "    <tr>\n",
       "      <th>29033</th>\n",
       "      <td>2007-01-01</td>\n",
       "      <td>20:52:48</td>\n",
       "      <td>W3SVC1</td>\n",
       "      <td>127.0.0.1</td>\n",
       "      <td>GET</td>\n",
       "      <td>/Tulip/dining/zh-hk/dining_cafeserena.aspx</td>\n",
       "      <td>80.0</td>\n",
       "      <td>74.6.85.206</td>\n",
       "      <td>Mozilla/5.0+(compatible;+Yahoo!+Slurp;+http://...</td>\n",
       "      <td>200.0</td>\n",
       "      <td>0.0</td>\n",
       "      <td>0.0</td>\n",
       "      <td>2021-04-19 20:52:48</td>\n",
       "      <td>US</td>\n",
       "    </tr>\n",
       "    <tr>\n",
       "      <th>29034</th>\n",
       "      <td>2007-01-01</td>\n",
       "      <td>20:59:04</td>\n",
       "      <td>W3SVC1</td>\n",
       "      <td>127.0.0.1</td>\n",
       "      <td>GET</td>\n",
       "      <td>/Tulip/whatsnew/whatsnew_roomsdetail.aspx</td>\n",
       "      <td>80.0</td>\n",
       "      <td>202.160.178.181</td>\n",
       "      <td>Mozilla/5.0+(compatible;+Yahoo!+Slurp+China;+h...</td>\n",
       "      <td>200.0</td>\n",
       "      <td>0.0</td>\n",
       "      <td>0.0</td>\n",
       "      <td>2021-04-19 20:59:04</td>\n",
       "      <td>CN</td>\n",
       "    </tr>\n",
       "    <tr>\n",
       "      <th>29035</th>\n",
       "      <td>2007-01-01</td>\n",
       "      <td>20:59:40</td>\n",
       "      <td>W3SVC1</td>\n",
       "      <td>127.0.0.1</td>\n",
       "      <td>GET</td>\n",
       "      <td>/robots.txt</td>\n",
       "      <td>80.0</td>\n",
       "      <td>74.6.75.47</td>\n",
       "      <td>Mozilla/5.0+(compatible;+Yahoo!+Slurp;+http://...</td>\n",
       "      <td>404.0</td>\n",
       "      <td>0.0</td>\n",
       "      <td>2.0</td>\n",
       "      <td>2021-04-19 20:59:40</td>\n",
       "      <td>US</td>\n",
       "    </tr>\n",
       "    <tr>\n",
       "      <th>29036</th>\n",
       "      <td>2007-01-01</td>\n",
       "      <td>20:59:41</td>\n",
       "      <td>W3SVC1</td>\n",
       "      <td>127.0.0.1</td>\n",
       "      <td>GET</td>\n",
       "      <td>/Tulip/whatsnew/whatsnew_fooddetail.aspx</td>\n",
       "      <td>80.0</td>\n",
       "      <td>74.6.73.79</td>\n",
       "      <td>Mozilla/5.0+(compatible;+Yahoo!+Slurp;+http://...</td>\n",
       "      <td>200.0</td>\n",
       "      <td>0.0</td>\n",
       "      <td>0.0</td>\n",
       "      <td>2021-04-19 20:59:41</td>\n",
       "      <td>US</td>\n",
       "    </tr>\n",
       "  </tbody>\n",
       "</table>\n",
       "<p>214 rows × 14 columns</p>\n",
       "</div>"
      ],
      "text/plain": [
       "             date      time s-sitename       s-ip cs-method  \\\n",
       "28823  2007-01-01  20:00:00     W3SVC1  127.0.0.1       GET   \n",
       "28824  2007-01-01  20:00:00     W3SVC1  127.0.0.1       GET   \n",
       "28825  2007-01-01  20:01:12     W3SVC1  127.0.0.1       GET   \n",
       "28826  2007-01-01  20:01:48     W3SVC1  127.0.0.1       GET   \n",
       "28827  2007-01-01  20:01:57     W3SVC1  127.0.0.1       GET   \n",
       "...           ...       ...        ...        ...       ...   \n",
       "29032  2007-01-01  20:52:46     W3SVC1  127.0.0.1       GET   \n",
       "29033  2007-01-01  20:52:48     W3SVC1  127.0.0.1       GET   \n",
       "29034  2007-01-01  20:59:04     W3SVC1  127.0.0.1       GET   \n",
       "29035  2007-01-01  20:59:40     W3SVC1  127.0.0.1       GET   \n",
       "29036  2007-01-01  20:59:41     W3SVC1  127.0.0.1       GET   \n",
       "\n",
       "                                            cs-uri-stem  s-port  \\\n",
       "28823                 /Tulip/home/en-us/home_index.aspx    80.0   \n",
       "28824                   /Tulip/common/common_style.aspx    80.0   \n",
       "28825  /Tulip/aboutus/en-us/photo/HarbourViewRoom02.jpg    80.0   \n",
       "28826        /Tulip/aboutus/en-us/photo/SkyLounge01.jpg    80.0   \n",
       "28827     /Tulip/aboutus/en-us/photo/SuperiorRoom01.jpg    80.0   \n",
       "...                                                 ...     ...   \n",
       "29032                                       /robots.txt    80.0   \n",
       "29033        /Tulip/dining/zh-hk/dining_cafeserena.aspx    80.0   \n",
       "29034         /Tulip/whatsnew/whatsnew_roomsdetail.aspx    80.0   \n",
       "29035                                       /robots.txt    80.0   \n",
       "29036          /Tulip/whatsnew/whatsnew_fooddetail.aspx    80.0   \n",
       "\n",
       "                  c-ip                                     cs(User-Agent)  \\\n",
       "28823    210.184.71.81  Mozilla/4.0+(compatible;+MSIE+6.0;+Windows+NT+...   \n",
       "28824    210.184.71.81  Mozilla/4.0+(compatible;+MSIE+6.0;+Windows+NT+...   \n",
       "28825   62.211.200.146  Mozilla/5.0+(X11;+U;+Linux+i686;+en-US;+rv:1.8...   \n",
       "28826   62.211.200.146  Mozilla/5.0+(X11;+U;+Linux+i686;+en-US;+rv:1.8...   \n",
       "28827   62.211.200.146  Mozilla/5.0+(X11;+U;+Linux+i686;+en-US;+rv:1.8...   \n",
       "...                ...                                                ...   \n",
       "29032      74.6.85.161  Mozilla/5.0+(compatible;+Yahoo!+Slurp;+http://...   \n",
       "29033      74.6.85.206  Mozilla/5.0+(compatible;+Yahoo!+Slurp;+http://...   \n",
       "29034  202.160.178.181  Mozilla/5.0+(compatible;+Yahoo!+Slurp+China;+h...   \n",
       "29035       74.6.75.47  Mozilla/5.0+(compatible;+Yahoo!+Slurp;+http://...   \n",
       "29036       74.6.73.79  Mozilla/5.0+(compatible;+Yahoo!+Slurp;+http://...   \n",
       "\n",
       "       sc-status  sc-substatus  sc-win32-status          time_fomat Country  \n",
       "28823      200.0           0.0              0.0 2021-04-19 20:00:00      HK  \n",
       "28824      200.0           0.0              0.0 2021-04-19 20:00:00      HK  \n",
       "28825      200.0           0.0              0.0 2021-04-19 20:01:12      IT  \n",
       "28826      200.0           0.0              0.0 2021-04-19 20:01:48      IT  \n",
       "28827      200.0           0.0              0.0 2021-04-19 20:01:57      IT  \n",
       "...          ...           ...              ...                 ...     ...  \n",
       "29032      404.0           0.0              2.0 2021-04-19 20:52:46      US  \n",
       "29033      200.0           0.0              0.0 2021-04-19 20:52:48      US  \n",
       "29034      200.0           0.0              0.0 2021-04-19 20:59:04      CN  \n",
       "29035      404.0           0.0              2.0 2021-04-19 20:59:40      US  \n",
       "29036      200.0           0.0              0.0 2021-04-19 20:59:41      US  \n",
       "\n",
       "[214 rows x 14 columns]"
      ]
     },
     "execution_count": 54,
     "metadata": {},
     "output_type": "execute_result"
    }
   ],
   "source": [
    "requests_by_country"
   ]
  },
  {
   "cell_type": "code",
   "execution_count": 57,
   "metadata": {},
   "outputs": [
    {
     "name": "stdout",
     "output_type": "stream",
     "text": [
      "HK    169\n",
      "CN     25\n",
      "US     16\n",
      "IT      3\n",
      "AU      1\n",
      "Name: Country, dtype: int64\n"
     ]
    }
   ],
   "source": [
    "country = requests_by_country['Country'].value_counts()\n",
    "print(country_cnt)"
   ]
  },
  {
   "cell_type": "code",
   "execution_count": 58,
   "metadata": {},
   "outputs": [
    {
     "data": {
      "text/plain": [
       "HK    169\n",
       "CN     25\n",
       "US     16\n",
       "Name: Country, dtype: int64"
      ]
     },
     "execution_count": 58,
     "metadata": {},
     "output_type": "execute_result"
    }
   ],
   "source": [
    "count = requests_by_country['Country'].value_counts().sort_values(ascending=False)\n",
    "count[:3]"
   ]
  },
  {
   "cell_type": "code",
   "execution_count": 59,
   "metadata": {},
   "outputs": [
    {
     "data": {
      "text/plain": [
       "<AxesSubplot:title={'center':'Request by Country'}, ylabel='Country'>"
      ]
     },
     "execution_count": 59,
     "metadata": {},
     "output_type": "execute_result"
    },
    {
     "data": {
      "image/png": "[encoded data removed]",
      "text/plain": [
       "<Figure size 720x1080 with 1 Axes>"
      ]
     },
     "metadata": {},
     "output_type": "display_data"
    }
   ],
   "source": [
    "count.plot.pie(autopct = '%.2f',figsize=(10, 15),title=\"Request by Country\")"
   ]
  },
  {
   "cell_type": "markdown",
   "metadata": {},
   "source": [
    "2.3.B Requests by City\n",
    "1. Discover on the demographics by analysing requests from city level.\n",
    "2. Plot cities of all requests in pie chart.\n",
    "3. List top 3 with the numbers of requests."
   ]
  },
  {
   "cell_type": "code",
   "execution_count": 62,
   "metadata": {
    "scrolled": true
   },
   "outputs": [
    {
     "name": "stdout",
     "output_type": "stream",
     "text": [
      "Ha Kwai Chung                         166\n",
      "Beijing                                15\n",
      "New York                               14\n",
      "Jinrongjie (Xicheng District)           9\n",
      "Valcanneto                              3\n",
      "Hong Kong                               2\n",
      "San Francisco (Financial District)      1\n",
      "Hangzhou                                1\n",
      "Quarry Bay                              1\n",
      "Mountain View                           1\n",
      "Sydney                                  1\n",
      "Name: City, dtype: int64\n"
     ]
    },
    {
     "name": "stderr",
     "output_type": "stream",
     "text": [
      "<ipython-input-62-bf0948258117>:1: SettingWithCopyWarning: \n",
      "A value is trying to be set on a copy of a slice from a DataFrame.\n",
      "Try using .loc[row_indexer,col_indexer] = value instead\n",
      "\n",
      "See the caveats in the documentation: https://pandas.pydata.org/pandas-docs/stable/user_guide/indexing.html#returning-a-view-versus-a-copy\n",
      "  requests_by_country['City'] = requests_by_country.apply(lambda row: DbIpCity.get(row['c-ip'],api_key='free').city, axis=1)\n"
     ]
    }
   ],
   "source": [
    "requests_by_country['City'] = requests_by_country.apply(lambda row: DbIpCity.get(row['c-ip'],api_key='free').city, axis=1)\n",
    "city = requests_by_country['City'].value_counts()\n",
    "print(city)"
   ]
  },
  {
   "cell_type": "code",
   "execution_count": 65,
   "metadata": {},
   "outputs": [
    {
     "data": {
      "text/plain": [
       "Ha Kwai Chung    166\n",
       "Beijing           15\n",
       "New York          14\n",
       "Name: City, dtype: int64"
      ]
     },
     "execution_count": 65,
     "metadata": {},
     "output_type": "execute_result"
    }
   ],
   "source": [
    "count_city = requests_by_country['City'].value_counts().sort_values(ascending=False)\n",
    "count_city[:3]"
   ]
  },
  {
   "cell_type": "code",
   "execution_count": 69,
   "metadata": {},
   "outputs": [
    {
     "data": {
      "text/plain": [
       "<AxesSubplot:title={'center':'Request by Country'}, ylabel='City'>"
      ]
     },
     "execution_count": 69,
     "metadata": {},
     "output_type": "execute_result"
    },
    {
     "data": {
      "image/png": "[encoded data removed]",
      "text/plain": [
       "<Figure size 1440x2808 with 1 Axes>"
      ]
     },
     "metadata": {},
     "output_type": "display_data"
    }
   ],
   "source": [
    "count_city.plot.pie(autopct = '%.2f',figsize=(20, 39),title=\"Request by Country\")"
   ]
  },
  {
   "cell_type": "markdown",
   "metadata": {},
   "source": [
    "Part II - Web Crawling\n",
    "3. Professor List Generation\n",
    "3.1 Import and install web crawling library."
   ]
  },
  {
   "cell_type": "markdown",
   "metadata": {},
   "source": [
    "Import and install your web crawling library here."
   ]
  },
  {
   "cell_type": "code",
   "execution_count": null,
   "metadata": {},
   "outputs": [],
   "source": [
    "!pip install beautifulSoup\n",
    "!pip install wget\n",
    "!pip install selenium\n",
    "!pip install lxml\n",
    "!pip install requests\n",
    "!pip install html5lib\n",
    "import selenium\n",
    "import wget\n",
    "from bs4 import BeautifulSoup\n",
    "import urllib.request\n",
    "import requests"
   ]
  },
  {
   "cell_type": "code",
   "execution_count": 63,
   "metadata": {
    "scrolled": false
   },
   "outputs": [
    {
     "ename": "NameError",
     "evalue": "name 'requests' is not defined",
     "output_type": "error",
     "traceback": [
      "\u001b[1;31m---------------------------------------------------------------------------\u001b[0m",
      "\u001b[1;31mNameError\u001b[0m                                 Traceback (most recent call last)",
      "\u001b[1;32m<ipython-input-63-dcac2587573b>\u001b[0m in \u001b[0;36m<module>\u001b[1;34m\u001b[0m\n\u001b[0;32m      1\u001b[0m \u001b[0murl\u001b[0m \u001b[1;33m=\u001b[0m \u001b[1;34m\"https://www.deakin.edu.au/information-technology/staff-listing\"\u001b[0m\u001b[1;33m\u001b[0m\u001b[1;33m\u001b[0m\u001b[0m\n\u001b[1;32m----> 2\u001b[1;33m \u001b[0mwb_data\u001b[0m \u001b[1;33m=\u001b[0m \u001b[0mrequests\u001b[0m\u001b[1;33m.\u001b[0m\u001b[0mget\u001b[0m\u001b[1;33m(\u001b[0m\u001b[0murl\u001b[0m\u001b[1;33m)\u001b[0m\u001b[1;33m\u001b[0m\u001b[1;33m\u001b[0m\u001b[0m\n\u001b[0m\u001b[0;32m      3\u001b[0m \u001b[0msoup\u001b[0m \u001b[1;33m=\u001b[0m \u001b[0mBeautifulSoup\u001b[0m\u001b[1;33m(\u001b[0m\u001b[0mwb_data\u001b[0m\u001b[1;33m.\u001b[0m\u001b[0mtext\u001b[0m\u001b[1;33m,\u001b[0m \u001b[1;34m\"lxml\"\u001b[0m\u001b[1;33m)\u001b[0m\u001b[1;33m\u001b[0m\u001b[1;33m\u001b[0m\u001b[0m\n\u001b[0;32m      4\u001b[0m \u001b[0mprint\u001b[0m\u001b[1;33m(\u001b[0m\u001b[0msoup\u001b[0m\u001b[1;33m)\u001b[0m\u001b[1;33m\u001b[0m\u001b[1;33m\u001b[0m\u001b[0m\n",
      "\u001b[1;31mNameError\u001b[0m: name 'requests' is not defined"
     ]
    }
   ],
   "source": [
    "url = \"https://www.deakin.edu.au/information-technology/staff-listing\"\n",
    "wb_data = requests.get(url)\n",
    "soup = BeautifulSoup(wb_data.text, \"lxml\")\n",
    "print(soup)"
   ]
  },
  {
   "cell_type": "code",
   "execution_count": null,
   "metadata": {},
   "outputs": [],
   "source": [
    "titles = soup.select('<a href=\"https://www.deakin.edu.au/about-deakin/people/lynn-batten\" target=\"_blank\">Emeritus Professor Lynn Batten</a>')\n",
    "contents = soup.select('#mainBox > main > div.article-list > div > p > a')\n",
    "readers = soup.select(\n",
    "    '#mainBox > main > div.article-list > div > div.info-box.d-flex.align-content-center > p:nth-child(3) > span > span')\n",
    "\n",
    "for title, content, reader in zip(titles, contents, readers):\n",
    "    data = {\n",
    "        'title': list(title.stripped_strings),\n",
    "        'content': content.get_text(),\n",
    "        'readers': reader.get_text()\n",
    "    }\n",
    "    print(data)"
   ]
  }
 ],
 "metadata": {
  "kernelspec": {
   "display_name": "Python 3",
   "language": "python",
   "name": "python3"
  },
  "language_info": {
   "codemirror_mode": {
    "name": "ipython",
    "version": 3
   },
   "file_extension": ".py",
   "mimetype": "text/x-python",
   "name": "python",
   "nbconvert_exporter": "python",
   "pygments_lexer": "ipython3",
   "version": "3.8.5"
  }
 },
 "nbformat": 4,
 "nbformat_minor": 4
}
